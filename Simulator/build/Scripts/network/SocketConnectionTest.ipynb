{
 "cells": [
  {
   "cell_type": "markdown",
   "metadata": {},
   "source": [
    "# Testing socket connection between Python code (client) and Warteschlangensimulator (server)"
   ]
  },
  {
   "cell_type": "markdown",
   "metadata": {},
   "source": [
    "How to test:\n",
    "\n",
    "* Run this notebook.\n",
    "* If Java or Warteschlangensimulator is not found or if you want to start Warteschlangensimulator outside this notebook and just want to connect to a running instance, change the settings in \"Configuration\"."
   ]
  },
  {
   "cell_type": "markdown",
   "metadata": {},
   "source": [
    "## Import Python modules"
   ]
  },
  {
   "cell_type": "code",
   "execution_count": 1,
   "metadata": {},
   "outputs": [],
   "source": [
    "from socket_connect import QS_full_connect as QS, QS_socket_connect as QS_socket_only\n",
    "from model_processor import Model, Statistics, get_example_model"
   ]
  },
  {
   "cell_type": "markdown",
   "metadata": {},
   "source": [
    "## Configuration"
   ]
  },
  {
   "cell_type": "code",
   "execution_count": 2,
   "metadata": {},
   "outputs": [],
   "source": [
    "# If Java auto dection is not working, specify the path to the Java runtime environment or development kit here\n",
    "java_path = None\n",
    "\n",
    "# If Warteschlangensimulator auto detection is not working, specify the path to Warteschlangensimulator here\n",
    "simulator_path = None\n",
    "\n",
    "# If the simulator is already running and is not to be started and stopped by this script,\n",
    "# enter the port number here. Otherwide let this field at -1.\n",
    "simulator_already_running_on_port = -1"
   ]
  },
  {
   "cell_type": "markdown",
   "metadata": {},
   "source": [
    "## Perform connection test"
   ]
  },
  {
   "cell_type": "code",
   "execution_count": 3,
   "metadata": {},
   "outputs": [
    {
     "name": "stdout",
     "output_type": "stream",
     "text": [
      "Starting simulator in socket server mode, connect to simulator.\n"
     ]
    }
   ],
   "source": [
    "# Load model\n",
    "xml_model = get_example_model()\n",
    "# Load custom model: xml_model = Model(\"filename.xml\").get()\n",
    "\n",
    "# Perform test\n",
    "if simulator_already_running_on_port > 0:\n",
    "    print(\"Connect to already running socket server.\")\n",
    "    qs = QS_socket_only(\"localhost\", port=simulator_already_running_on_port)\n",
    "    xml_result = qs.run_task(xml_model)\n",
    "else:\n",
    "    print(\"Starting simulator in socket server mode, connect to simulator.\")\n",
    "    with QS(java_path, simulator_path) as qs:\n",
    "        xml_result = qs.run_task(xml_model, direct_process=False)  # TODO: \"direct_process=False\" entfernen für Veröffentlichung mit Warteschlangensimulator 5.1"
   ]
  },
  {
   "cell_type": "markdown",
   "metadata": {},
   "source": [
    "## Display test result"
   ]
  },
  {
   "cell_type": "code",
   "execution_count": 4,
   "metadata": {},
   "outputs": [
    {
     "name": "stdout",
     "output_type": "stream",
     "text": [
      "Connection is working.\n",
      "Received 315801 bytes of statistic data.\n"
     ]
    }
   ],
   "source": [
    "if type(xml_result) == bytes:\n",
    "    print(\"Connection is working.\")\n",
    "    print(\"Received\", len(xml_result), \"bytes of statistic data.\")\n",
    "    # Save results: Statistics(xml_result).save(\"filename.xml\")\n",
    "else:\n",
    "    print(\"Sending model or receiving statistics failed.\")\n",
    "    print(\"Result data type:\", type(xml_result))"
   ]
  }
 ],
 "metadata": {
  "interpreter": {
   "hash": "50353b016531f30848d54ac32cae776bc182aa8d1967b29e76fe0c76333975c2"
  },
  "kernelspec": {
   "display_name": "Python 3.9.7 64-bit",
   "language": "python",
   "name": "python3"
  },
  "language_info": {
   "codemirror_mode": {
    "name": "ipython",
    "version": 3
   },
   "file_extension": ".py",
   "mimetype": "text/x-python",
   "name": "python",
   "nbconvert_exporter": "python",
   "pygments_lexer": "ipython3",
   "version": "3.9.7"
  },
  "orig_nbformat": 4
 },
 "nbformat": 4,
 "nbformat_minor": 2
}
